{
 "cells": [
  {
   "cell_type": "markdown",
   "metadata": {},
   "source": [
    "An experienced Marketing & Management professional, I have over 5 years of experience driving strategic initiatives across Product understanding, Business Strategy and Business Analysis. \n",
    "\n",
    "My main objective is to contribute to the growth of an organisation with my professional expertise in Product Development and develop myself further in the process. One of my key achievements was having initiated 360 deg program in Sales & Marketing department by creating training manuals, presentations and audio-visual tools; trained numerous associates on sales process, lead generation, sales strategies, and channel management. \n",
    "\n",
    "I am currently pursuing Master of Science in Business Analytics to prepare myself for the challenges of the future & fulfilling my passion for Innovation throughout my life."
   ]
  },
  {
   "cell_type": "markdown",
   "metadata": {},
   "source": [
    "## My Top Skills\n",
    "\n",
    "🐍Python(NumPy, Pandas, Scikit-learn, Matplotlib, Seaborn)\n",
    "\n",
    "📊R(Tidyverse: dplyr, ggplot2, tidyr, readr, broom, reshape2)\n",
    "\n",
    "🤖SQL(creating scripts, views, procedures when manipulate data from databases)\n",
    "\n",
    "👨🏻‍💻Tableau(Creating visual representations that effectively communicate information to the ordinary reader)"
   ]
  },
  {
   "cell_type": "markdown",
   "metadata": {},
   "source": [
    "Feel free to connect with me on [Github](https://github.com/tusharpant93) or [LinkedIn](https://www.linkedin.com/in/tushar-pant/) to learn more about me. \n",
    "\n",
    "I'd be more than happy to have a conversation! share my experiences & learn from your stories."
   ]
  },
  {
   "cell_type": "markdown",
   "metadata": {},
   "source": [
    "[![Anurag's GitHub stats](https://github-readme-stats.vercel.app/api?username=tusharpant93)](https://github.com/anuraghazra/github-readme-stats)"
   ]
  },
  {
   "cell_type": "code",
   "execution_count": null,
   "metadata": {},
   "outputs": [],
   "source": []
  }
 ],
 "metadata": {
  "kernelspec": {
   "display_name": "Python 3",
   "language": "python",
   "name": "python3"
  },
  "language_info": {
   "codemirror_mode": {
    "name": "ipython",
    "version": 3
   },
   "file_extension": ".py",
   "mimetype": "text/x-python",
   "name": "python",
   "nbconvert_exporter": "python",
   "pygments_lexer": "ipython3",
   "version": "3.8.5"
  }
 },
 "nbformat": 4,
 "nbformat_minor": 4
}
